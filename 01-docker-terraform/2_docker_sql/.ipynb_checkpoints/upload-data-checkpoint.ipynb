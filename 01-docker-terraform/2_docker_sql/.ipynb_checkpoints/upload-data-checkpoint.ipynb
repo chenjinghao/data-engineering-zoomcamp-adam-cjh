{
 "cells": [
  {
   "cell_type": "code",
   "execution_count": 1,
   "id": "b3a6239a-6c07-4b78-a9aa-0c2e7a42f597",
   "metadata": {},
   "outputs": [],
   "source": [
    "import pandas as pd"
   ]
  },
  {
   "cell_type": "code",
   "execution_count": 2,
   "id": "0d29bc89-9991-4fdc-aa81-e68efbb429a5",
   "metadata": {},
   "outputs": [],
   "source": [
    "df = pd.read_csv('yellow_tripdata_2021-01.csv', nrows=100)\n"
   ]
  },
  {
   "cell_type": "code",
   "execution_count": 3,
   "id": "6d17fadf-f93b-44f1-847a-35da8abd7bee",
   "metadata": {},
   "outputs": [],
   "source": [
    "df.tpep_pickup_datetime = pd.to_datetime(df.tpep_pickup_datetime)\n",
    "df.tpep_dropoff_datetime = pd.to_datetime(df.tpep_dropoff_datetime)"
   ]
  },
  {
   "cell_type": "code",
   "execution_count": null,
   "id": "fc34eed9-d4f4-4ef7-858e-8eed9934d66c",
   "metadata": {},
   "outputs": [],
   "source": []
  }
 ],
 "metadata": {
  "kernelspec": {
   "display_name": "Python 3 (ipykernel)",
   "language": "python",
   "name": "python3"
  },
  "language_info": {
   "codemirror_mode": {
    "name": "ipython",
    "version": 3
   },
   "file_extension": ".py",
   "mimetype": "text/x-python",
   "name": "python",
   "nbconvert_exporter": "python",
   "pygments_lexer": "ipython3",
   "version": "3.12.1"
  }
 },
 "nbformat": 4,
 "nbformat_minor": 5
}
